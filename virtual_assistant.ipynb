{
 "cells": [
  {
   "cell_type": "code",
   "execution_count": 2,
   "metadata": {},
   "outputs": [],
   "source": [
    "import pyttsx3\n",
    "import speech_recognition as sr\n",
    "import datetime\n",
    "import wikipedia\n",
    "import os\n",
    "import smtplib\n",
    "import webbrowser\n",
    "import random2\n",
    "import pyaudio\n"
   ]
  },
  {
   "cell_type": "code",
   "execution_count": 24,
   "metadata": {},
   "outputs": [],
   "source": [
    "engine = pyttsx3.init('sapi5')\n",
    "voices = engine.getProperty('voices')\n",
    "\n",
    "# print(voices[1].id)\n",
    "engine.setProperty('voice', voices[1].id)"
   ]
  },
  {
   "cell_type": "code",
   "execution_count": 7,
   "metadata": {},
   "outputs": [],
   "source": [
    "def wishme():\n",
    "    hour = int(datetime.datetime.now().hour)\n",
    "    if hour >= 0 and hour < 12:\n",
    "        speak(\"good morning\")\n",
    "    elif hour >= 12 and hour < 18:\n",
    "        speak(\"good afternoon\")\n",
    "    else:\n",
    "        speak(\"good evening\")\n",
    "    speak(\"hello I am your virtual assistant , how can I help u \")\n"
   ]
  },
  {
   "cell_type": "code",
   "execution_count": 9,
   "metadata": {},
   "outputs": [],
   "source": [
    "def speak(audio):\n",
    "    engine.say(audio)\n",
    "    engine.runAndWait()\n"
   ]
  },
  {
   "cell_type": "code",
   "execution_count": 11,
   "metadata": {},
   "outputs": [],
   "source": [
    "def takecommand():\n",
    "    r = sr.Recognizer()\n",
    "    with sr.Microphone() as source:\n",
    "        print(\"listning...\")\n",
    "        r.pause_threshold = 1\n",
    "        audio = r.listen(source)\n",
    "    try:\n",
    "        print(\"Recognising....\")\n",
    "        speak(\"Recognising...\")\n",
    "        query = r.recognize_google(audio, language=\"en-in\")\n",
    "        print(f\"user said: (query)\\n\")\n",
    "\n",
    "    except Exception:\n",
    "        print(\"say it again please.......\")\n",
    "        return\"none\"\n",
    "    return query"
   ]
  },
  {
   "cell_type": "code",
   "execution_count": 25,
   "metadata": {},
   "outputs": [
    {
     "name": "stdout",
     "output_type": "stream",
     "text": [
      "listning...\n",
      "Recognising....\n",
      "user said: (query)\n",
      "\n"
     ]
    }
   ],
   "source": [
    "if __name__ == \"__main__\":\n",
    "    wishme()\n",
    "    while True:\n",
    "        query = takecommand().lower()\n",
    "        if 'wikipedia' in query:\n",
    "            speak(\"searching.......\")\n",
    "            query = query.replace('wikipedia', \"\")\n",
    "            results = wikipedia.summary(query, sentences=2)\n",
    "            speak(\"according to wikipedia\")\n",
    "            speak(results)\n",
    "            break\n",
    "        elif 'open youtube' in query:\n",
    "            webbrowser.open(\"youtube.com\")\n",
    "            break\n",
    "        \n",
    "        elif 'open google' in query:\n",
    "            webbrowser.open(\"google.com\")\n",
    "            break\n",
    "        elif'open gmail' in query:\n",
    "            webbrowser.open(\"gmail.com\")\n",
    "            break\n",
    "\n",
    "        elif 'play music' in query:\n",
    "            # speak(\"what kind of song do you want to listen\")\n",
    "            music_dir = 'D://music/my_mashup/'\n",
    "            n = random2.randint(0, 122)\n",
    "            songs = os.listdir(music_dir)\n",
    "            os.startfile(os.path.join(music_dir, songs[n]))\n",
    "            break\n",
    "\n",
    "        elif 'the time' in query:\n",
    "            strTime = datetime.datetime.now().strftime(\"%H%M\")\n",
    "            speak(f\"sir , the time is \" + strTime)\n",
    "            break"
   ]
  }
 ],
 "metadata": {
  "kernelspec": {
   "display_name": "Python 3",
   "language": "python",
   "name": "python3"
  },
  "language_info": {
   "codemirror_mode": {
    "name": "ipython",
    "version": 3
   },
   "file_extension": ".py",
   "mimetype": "text/x-python",
   "name": "python",
   "nbconvert_exporter": "python",
   "pygments_lexer": "ipython3",
   "version": "3.11.5"
  },
  "orig_nbformat": 4
 },
 "nbformat": 4,
 "nbformat_minor": 2
}
