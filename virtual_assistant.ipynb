{
 "cells": [
  {
   "cell_type": "code",
   "execution_count": 3,
   "metadata": {},
   "outputs": [],
   "source": [
    "import pyttsx3\n",
    "import speech_recognition as sr\n",
    "import datetime\n",
    "import wikipedia\n",
    "import os\n",
    "import smtplib\n",
    "import webbrowser\n",
    "import random2\n",
    "import pyaudio\n"
   ]
  },
  {
   "cell_type": "code",
   "execution_count": 4,
   "metadata": {},
   "outputs": [],
   "source": [
    "engine = pyttsx3.init('sapi5')\n",
    "voices = engine.getProperty('voices')\n",
    "\n",
    "# print(voices[1].id)\n",
    "engine.setProperty('voice', voices[1].id)"
   ]
  },
  {
   "cell_type": "code",
   "execution_count": 5,
   "metadata": {},
   "outputs": [],
   "source": [
    "def speak(audio):\n",
    "    engine.say(audio)\n",
    "    engine.runAndWait()"
   ]
  },
  {
   "cell_type": "code",
   "execution_count": 6,
   "metadata": {},
   "outputs": [],
   "source": [
    "def wishme():\n",
    "    hour = int(datetime.datetime.now().hour)\n",
    "    if hour >= 0 and hour < 12:\n",
    "        speak(\"good morning\")\n",
    "    elif hour >= 12 and hour < 18:\n",
    "        speak(\"good afternoon\")\n",
    "    else:\n",
    "        speak(\"good evening\")\n",
    "    speak(\"hello I am your virtual assistant , how can I help u \")\n"
   ]
  },
  {
   "cell_type": "code",
   "execution_count": 7,
   "metadata": {},
   "outputs": [],
   "source": [
    "def takecommand():\n",
    "    r = sr.Recognizer()\n",
    "    with sr.Microphone() as source:\n",
    "        print(\"listning...\")\n",
    "        r.pause_threshold = 1\n",
    "        audio = r.listen(source)\n",
    "    try:\n",
    "        print(\"Recognising....\")\n",
    "        speak(\"Recognising...\")\n",
    "        query = r.recognize_google(audio, language=\"en-in\")\n",
    "        print(f\"user said: (query)\\n\")\n",
    "\n",
    "    except Exception:\n",
    "        print(\"say it again please.......\")\n",
    "        return\"none\"\n",
    "    return query\n"
   ]
  },
  {
   "cell_type": "code",
   "execution_count": 1,
   "metadata": {},
   "outputs": [
    {
     "ename": "NameError",
     "evalue": "name 'wishme' is not defined",
     "output_type": "error",
     "traceback": [
      "\u001b[1;31m---------------------------------------------------------------------------\u001b[0m",
      "\u001b[1;31mNameError\u001b[0m                                 Traceback (most recent call last)",
      "\u001b[1;32md:\\documents\\virtual assistant\\virtual_assistant.ipynb Cell 6\u001b[0m line \u001b[0;36m2\n\u001b[0;32m      <a href='vscode-notebook-cell:/d%3A/documents/virtual%20assistant/virtual_assistant.ipynb#W5sZmlsZQ%3D%3D?line=0'>1</a>\u001b[0m \u001b[39mif\u001b[39;00m \u001b[39m__name__\u001b[39m \u001b[39m==\u001b[39m \u001b[39m\"\u001b[39m\u001b[39m__main__\u001b[39m\u001b[39m\"\u001b[39m:\n\u001b[1;32m----> <a href='vscode-notebook-cell:/d%3A/documents/virtual%20assistant/virtual_assistant.ipynb#W5sZmlsZQ%3D%3D?line=1'>2</a>\u001b[0m     wishme()\n\u001b[0;32m      <a href='vscode-notebook-cell:/d%3A/documents/virtual%20assistant/virtual_assistant.ipynb#W5sZmlsZQ%3D%3D?line=2'>3</a>\u001b[0m     \u001b[39mwhile\u001b[39;00m \u001b[39mTrue\u001b[39;00m:\n\u001b[0;32m      <a href='vscode-notebook-cell:/d%3A/documents/virtual%20assistant/virtual_assistant.ipynb#W5sZmlsZQ%3D%3D?line=3'>4</a>\u001b[0m         query \u001b[39m=\u001b[39m takecommand()\u001b[39m.\u001b[39mlower()\n",
      "\u001b[1;31mNameError\u001b[0m: name 'wishme' is not defined"
     ]
    }
   ],
   "source": [
    "if __name__ == \"__main__\":\n",
    "    wishme()\n",
    "    while True:\n",
    "        query = takecommand().lower()\n",
    "        if 'wikipedia' in query:\n",
    "            speak(\"searching.......\")\n",
    "            query = query.replace('wikipedia', \"\")\n",
    "            results = wikipedia.summary(query, sentences=2)\n",
    "            speak(\"according to wikipedia\")\n",
    "            speak(results)\n",
    "            break\n",
    "        elif 'open youtube' in query:\n",
    "            webbrowser.open(\"youtube.com\")\n",
    "            break\n",
    "\n",
    "        elif 'open google' in query:\n",
    "            webbrowser.open(\"google.com\")\n",
    "            break\n",
    "        elif'open gmail' in query:\n",
    "            webbrowser.open(\"gmail.com\")\n",
    "            break\n",
    "\n",
    "        elif 'play music' in query:\n",
    "            music_dir = 'D://music/my_mashup/'\n",
    "            n = random2.randint(0, 123)\n",
    "            songs = os.listdir(music_dir)\n",
    "            os.startfile(os.path.join(music_dir, songs[n]))\n",
    "            break\n",
    "\n",
    "        elif 'the time' in query:\n",
    "            strTime = datetime.datetime.now().strftime(\"%H%M\")\n",
    "            speak(f\"sir , the time is \" + strTime)\n",
    "            break\n"
   ]
  }
 ],
 "metadata": {
  "kernelspec": {
   "display_name": "Python 3",
   "language": "python",
   "name": "python3"
  },
  "language_info": {
   "codemirror_mode": {
    "name": "ipython",
    "version": 3
   },
   "file_extension": ".py",
   "mimetype": "text/x-python",
   "name": "python",
   "nbconvert_exporter": "python",
   "pygments_lexer": "ipython3",
   "version": "3.11.7"
  },
  "orig_nbformat": 4
 },
 "nbformat": 4,
 "nbformat_minor": 2
}
